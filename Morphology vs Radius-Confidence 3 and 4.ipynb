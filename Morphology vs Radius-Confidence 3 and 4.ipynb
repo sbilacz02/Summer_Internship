{
 "cells": [
  {
   "cell_type": "code",
   "execution_count": 11,
   "id": "16fa1d56",
   "metadata": {},
   "outputs": [],
   "source": [
    "import numpy as np\n",
    "import matplotlib.pyplot as plt\n",
    "from astropy.io import fits"
   ]
  },
  {
   "cell_type": "code",
   "execution_count": 12,
   "id": "0ee6d664",
   "metadata": {},
   "outputs": [],
   "source": [
    "h = fits.open('Morph_RM_Matched C+G 2')"
   ]
  },
  {
   "cell_type": "code",
   "execution_count": 13,
   "id": "cf43800e",
   "metadata": {},
   "outputs": [
    {
     "name": "stdout",
     "output_type": "stream",
     "text": [
      "Filename: Morph_RM_Matched C+G 2\n",
      "No.    Name      Ver    Type      Cards   Dimensions   Format\n",
      "  0  PRIMARY       1 PrimaryHDU      16   (5538,)   uint8   \n",
      "  1  Joined        1 BinTableHDU    136   24948R x 54C   [K, D, D, K, 2A, D, K, D, D, D, D, D, D, D, D, D, D, D, D, D, D, D, D, D, D, J, J, J, J, I, I, D, D, J, D, D, E, E, E, E, E, E, E, E, E, E, E, E, E, E, E, E, K, D]   \n"
     ]
    }
   ],
   "source": [
    "h.info()"
   ]
  },
  {
   "cell_type": "code",
   "execution_count": 14,
   "id": "674da43a",
   "metadata": {},
   "outputs": [
    {
     "name": "stdout",
     "output_type": "stream",
     "text": [
      "[0.        0.        0.        ... 1.0562055 1.0786723 1.0787799]\n"
     ]
    }
   ],
   "source": [
    "H = h[1].data\n",
    "Morph = H.field(3)\n",
    "Radius = H.field(36)\n",
    "print(Radius)"
   ]
  },
  {
   "cell_type": "code",
   "execution_count": 15,
   "id": "ac80fbea",
   "metadata": {},
   "outputs": [
    {
     "name": "stdout",
     "output_type": "stream",
     "text": [
      "[[ 0.          0.          0.         ...  1.05620551  1.07867229\n",
      "   1.07877994]\n",
      " [ 1.          0.          0.         ... -1.          1.\n",
      "  -1.        ]]\n"
     ]
    }
   ],
   "source": [
    "Stack = np.vstack((Radius, Morph))\n",
    "print(Stack)"
   ]
  },
  {
   "cell_type": "code",
   "execution_count": 16,
   "id": "060a57e2",
   "metadata": {},
   "outputs": [],
   "source": [
    "Bin_1, Bin_2, Bin_3, Bin_4, Bin_5, Bin_6, Bin_7, Bin_8, Bin_9 = np.hsplit(Stack, np.array([6717, 13096, 18200, 21537, 23762, 24608, 24890, 24944]))"
   ]
  },
  {
   "cell_type": "code",
   "execution_count": 17,
   "id": "058a9832",
   "metadata": {},
   "outputs": [],
   "source": [
    "def fraction(array):\n",
    "    Mor = array[1]\n",
    "    Spi = 0\n",
    "    Ell = 0\n",
    "    Len = 0\n",
    "    for i in Mor:\n",
    "        if i == 1:\n",
    "            Spi = Spi + 1\n",
    "        elif i == 0:\n",
    "            Ell = Ell + 1\n",
    "        else:\n",
    "            Len = Len + 1\n",
    "    return Spi/len(Mor), Ell/len(Mor), Len/len(Mor)"
   ]
  },
  {
   "cell_type": "code",
   "execution_count": 18,
   "id": "826d3f23",
   "metadata": {},
   "outputs": [],
   "source": [
    "Spiral_1, Elliptical_1, Lenticular_1 = fraction(Bin_1)\n",
    "Spiral_2, Elliptical_2, Lenticular_2 = fraction(Bin_2)\n",
    "Spiral_3, Elliptical_3, Lenticular_3 = fraction(Bin_3)\n",
    "Spiral_4, Elliptical_4, Lenticular_4 = fraction(Bin_4)\n",
    "Spiral_5, Elliptical_5, Lenticular_5 = fraction(Bin_5)\n",
    "Spiral_6, Elliptical_6, Lenticular_6 = fraction(Bin_6)\n",
    "Spiral_7, Elliptical_7, Lenticular_7 = fraction(Bin_7)\n",
    "Spiral_8, Elliptical_8, Lenticular_8 = fraction(Bin_8)\n",
    "Spiral_9, Elliptical_9, Lenticular_9 = fraction(Bin_9)\n"
   ]
  },
  {
   "cell_type": "code",
   "execution_count": 23,
   "id": "bd10d818",
   "metadata": {},
   "outputs": [],
   "source": [
    "Spirals = [Spiral_1, Spiral_2, Spiral_3, Spiral_4, Spiral_5, Spiral_6, Spiral_7, Spiral_8]\n",
    "Ellipticals = [Elliptical_1, Elliptical_2, Elliptical_3, Elliptical_4, Elliptical_5, Elliptical_6, Elliptical_7, Elliptical_8]\n",
    "Lenticulars = [Lenticular_1, Lenticular_2, Lenticular_3, Lenticular_4, Lenticular_5, Lenticular_6, Lenticular_7, Lenticular_8]\n",
    "Radii = np.array([0.065, 0.195, 0.325, 0.455, 0.585, 0.715, 0.845, 0.975])"
   ]
  },
  {
   "cell_type": "code",
   "execution_count": 30,
   "id": "f5a5eca9",
   "metadata": {},
   "outputs": [
    {
     "name": "stdout",
     "output_type": "stream",
     "text": [
      "[-0.51671301  0.50664412  0.49292316]\n",
      "[ 0.37520603 -0.39604357  0.17046689]\n",
      "[ 0.14150695 -0.11060053  0.33660995]\n"
     ]
    },
    {
     "data": {
      "text/plain": [
       "Text(0.5, 1.0, 'Morphology vs Distance From Cluster Centre')"
      ]
     },
     "execution_count": 30,
     "metadata": {},
     "output_type": "execute_result"
    },
    {
     "data": {
      "image/png": "[encoded data removed]",
      "text/plain": [
       "<Figure size 432x288 with 1 Axes>"
      ]
     },
     "metadata": {
      "needs_background": "light"
     },
     "output_type": "display_data"
    }
   ],
   "source": [
    "from scipy.optimize import curve_fit\n",
    "\n",
    "def func(x, a, b, c):\n",
    "    return a*x + b*x**2 + c\n",
    "\n",
    "popt, pcov = curve_fit(func, Radii, Spirals)\n",
    "print(popt)\n",
    "\n",
    "popt2, pcov2 = curve_fit(func, Radii, Ellipticals)\n",
    "print(popt2)\n",
    "\n",
    "popt3, pcov3 = curve_fit(func, Radii, Lenticulars)\n",
    "print(popt3)\n",
    "\n",
    "plt.figure(1).add_axes((0,0,1.2,1.2))\n",
    "\n",
    "plt.plot(Radii, func(Radii, *popt), color = 'blue', linewidth = '1')\n",
    "plt.plot(Radii, func(Radii, *popt2), color = 'red', linewidth = '1')\n",
    "plt.plot(Radii, func(Radii, *popt3), color = 'orange', linewidth = '1')\n",
    "\n",
    "plt.scatter(Radii, Spirals, marker = 'x', color = 'blue', label = 'Spirals')\n",
    "plt.scatter(Radii, Ellipticals, s=18, marker = 'o', color = 'red', label = 'Ellipticals')\n",
    "plt.scatter(Radii, Lenticulars, s=16, marker = 's', color = 'orange', label = 'Lenticulars/Unknown')\n",
    "\n",
    "plt.xlabel(\"Distance From Centre ($Mpc$)\")\n",
    "plt.ylabel(\"Fraction of Population\")\n",
    "plt.legend(loc = 'lower left')\n",
    "plt.title(\"Morphology vs Distance From Cluster Centre\")"
   ]
  },
  {
   "cell_type": "code",
   "execution_count": null,
   "id": "9dc5c33e",
   "metadata": {},
   "outputs": [],
   "source": []
  }
 ],
 "metadata": {
  "kernelspec": {
   "display_name": "Python 3",
   "language": "python",
   "name": "python3"
  },
  "language_info": {
   "codemirror_mode": {
    "name": "ipython",
    "version": 3
   },
   "file_extension": ".py",
   "mimetype": "text/x-python",
   "name": "python",
   "nbconvert_exporter": "python",
   "pygments_lexer": "ipython3",
   "version": "3.8.8"
  }
 },
 "nbformat": 4,
 "nbformat_minor": 5
}
