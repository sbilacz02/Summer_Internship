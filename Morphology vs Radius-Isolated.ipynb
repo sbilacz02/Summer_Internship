{
 "cells": [
  {
   "cell_type": "code",
   "execution_count": 1,
   "id": "16fa1d56",
   "metadata": {},
   "outputs": [],
   "source": [
    "import numpy as np\n",
    "import matplotlib.pyplot as plt\n",
    "from astropy.io import fits"
   ]
  },
  {
   "cell_type": "code",
   "execution_count": 2,
   "id": "0ee6d664",
   "metadata": {},
   "outputs": [],
   "source": [
    "h = fits.open('Morph_RM_Match_Python First Lots Iso 2')"
   ]
  },
  {
   "cell_type": "code",
   "execution_count": 3,
   "id": "cf43800e",
   "metadata": {},
   "outputs": [
    {
     "name": "stdout",
     "output_type": "stream",
     "text": [
      "Filename: Morph_RM_Match_Python First Lots Iso 2\n",
      "No.    Name      Ver    Type      Cards   Dimensions   Format\n",
      "  0  PRIMARY       1 PrimaryHDU      16   (6336,)   uint8   \n",
      "  1  Joined        1 BinTableHDU    136   3743R x 54C   [K, D, D, K, 2A, D, K, D, D, D, D, D, D, D, D, D, D, D, D, D, D, D, D, D, D, J, J, J, J, I, I, D, D, J, D, D, E, E, E, E, E, E, E, E, E, E, E, E, E, E, E, E, K, D]   \n"
     ]
    }
   ],
   "source": [
    "h.info()"
   ]
  },
  {
   "cell_type": "code",
   "execution_count": 4,
   "id": "674da43a",
   "metadata": {},
   "outputs": [
    {
     "name": "stdout",
     "output_type": "stream",
     "text": [
      "[0.01716962 0.02255295 0.02288954 ... 1.2626218  1.2920119  1.2935764 ]\n"
     ]
    }
   ],
   "source": [
    "H = h[1].data\n",
    "Morph = H.field(3)\n",
    "Radius = H.field(36)\n",
    "print(Radius)"
   ]
  },
  {
   "cell_type": "code",
   "execution_count": 5,
   "id": "ac80fbea",
   "metadata": {},
   "outputs": [
    {
     "name": "stdout",
     "output_type": "stream",
     "text": [
      "[[ 0.01716962  0.02255295  0.02288954 ...  1.26262176  1.29201186\n",
      "   1.29357636]\n",
      " [-1.          1.          1.         ...  1.          1.\n",
      "   1.        ]]\n"
     ]
    }
   ],
   "source": [
    "Stack = np.vstack((Radius, Morph))\n",
    "print(Stack)"
   ]
  },
  {
   "cell_type": "code",
   "execution_count": 11,
   "id": "060a57e2",
   "metadata": {},
   "outputs": [
    {
     "name": "stdout",
     "output_type": "stream",
     "text": [
      "[[ 0.01716962  0.02255295  0.02288954  0.02615242  0.02743111  0.02826936\n",
      "   0.04011484  0.04808365  0.04824397  0.05670645  0.05857726  0.06213119\n",
      "   0.06354123  0.06567273  0.06644271  0.06651762  0.07051861  0.07611634\n",
      "   0.07671165  0.08223658  0.08456497  0.08518697  0.09089157  0.09575154\n",
      "   0.09835421  0.10021891  0.10388799  0.10691302  0.10708223  0.10834683\n",
      "   0.11137016  0.11203686  0.11225981  0.11232015  0.11370011  0.1169261\n",
      "   0.11838349  0.12283633]\n",
      " [-1.          1.          1.          1.          1.          1.\n",
      "   1.         -1.          1.          1.          1.          1.\n",
      "   1.          1.          1.          1.          1.          1.\n",
      "   1.          1.          1.          1.          1.          1.\n",
      "   1.         -1.          1.         -1.          1.         -1.\n",
      "   1.          1.          1.          1.          1.          1.\n",
      "   1.          1.        ]]\n"
     ]
    }
   ],
   "source": [
    "Bin_1, Bin_2, Bin_3, Bin_4, Bin_5, Bin_6, Bin_7, Bin_8, Bin_9, Bin_10 = np.hsplit(Stack, np.array([38, 181, 417, 740, 1159, 1636, 2227, 3284, 3690]))\n",
    "print(Bin_1)"
   ]
  },
  {
   "cell_type": "code",
   "execution_count": 12,
   "id": "058a9832",
   "metadata": {},
   "outputs": [],
   "source": [
    "def fraction(array):\n",
    "    Mor = array[1]\n",
    "    Spi = 0\n",
    "    Ell = 0\n",
    "    Len = 0\n",
    "    for i in Mor:\n",
    "        if i == 1:\n",
    "            Spi = Spi + 1\n",
    "        elif i == 0:\n",
    "            Ell = Ell + 1\n",
    "        else:\n",
    "            Len = Len + 1\n",
    "    return Spi/len(Mor), Ell/len(Mor), Len/len(Mor)\n",
    "\n",
    "def fract(array):\n",
    "    Mor = array[1]\n",
    "    Spi = 0\n",
    "    Ell = 0\n",
    "    Len = 0\n",
    "    for i in Mor:\n",
    "        if i == 1:\n",
    "            Spi = Spi + 1\n",
    "        elif i == 0:\n",
    "            Ell = Ell + 1\n",
    "        else:\n",
    "            Len = Len + 1\n",
    "    return Spi, Ell, Len"
   ]
  },
  {
   "cell_type": "code",
   "execution_count": 25,
   "id": "826d3f23",
   "metadata": {},
   "outputs": [],
   "source": [
    "Spiral_1, Elliptical_1, Lenticular_1 = fraction(Bin_1)\n",
    "Spiral_2, Elliptical_2, Lenticular_2 = fraction(Bin_2)\n",
    "Spiral_3, Elliptical_3, Lenticular_3 = fraction(Bin_3)\n",
    "Spiral_4, Elliptical_4, Lenticular_4 = fraction(Bin_4)\n",
    "Spiral_5, Elliptical_5, Lenticular_5 = fraction(Bin_5)\n",
    "Spiral_6, Elliptical_6, Lenticular_6 = fraction(Bin_6)\n",
    "Spiral_7, Elliptical_7, Lenticular_7 = fraction(Bin_7)\n",
    "Spiral_8, Elliptical_8, Lenticular_8 = fraction(Bin_8)\n",
    "Spiral_9, Elliptical_9, Lenticular_9 = fraction(Bin_9)\n",
    "Spiral_10, Elliptical_10, Lenticular_10 = fraction(Bin_10)\n",
    "\n",
    "Spi_1, Ell_1, Len_1 = fract(Bin_1)\n",
    "Spi_2, Ell_2, Len_2 = fract(Bin_2)\n",
    "Spi_3, Ell_3, Len_3 = fract(Bin_3)\n",
    "Spi_4, Ell_4, Len_4 = fract(Bin_4)\n",
    "Spi_5, Ell_5, Len_5 = fract(Bin_5)\n",
    "Spi_6, Ell_6, Len_6 = fract(Bin_6)\n",
    "Spi_7, Ell_7, Len_7 = fract(Bin_7)\n",
    "Spi_8, Ell_8, Len_8 = fract(Bin_8)\n",
    "Spi_9, Ell_9, Len_9 = fract(Bin_9)\n",
    "Spi_10, Ell_10, Len_10 = fract(Bin_10)"
   ]
  },
  {
   "cell_type": "code",
   "execution_count": 26,
   "id": "bd10d818",
   "metadata": {},
   "outputs": [],
   "source": [
    "Spirals = [Spiral_1, Spiral_2, Spiral_3, Spiral_4, Spiral_5, Spiral_6, Spiral_7, Spiral_8, Spiral_9, Spiral_10]\n",
    "Ellipticals = [Elliptical_1, Elliptical_2, Elliptical_3, Elliptical_4, Elliptical_5, Elliptical_6, Elliptical_7, Elliptical_8, Elliptical_9, Elliptical_10]\n",
    "Lenticulars = [Lenticular_1, Lenticular_2, Lenticular_3, Lenticular_4, Lenticular_5, Lenticular_6, Lenticular_7, Lenticular_8, Lenticular_9, Lenticular_10]\n",
    "\n",
    "Spis = [Spi_1, Spi_2, Spi_3, Spi_4, Spi_5, Spi_6, Spi_7, Spi_8, Spi_9, Spi_10]\n",
    "Ells = [Ell_1, Ell_2, Ell_3, Ell_4, Ell_5, Ell_6, Ell_7, Ell_8, Ell_9, Ell_10]\n",
    "Lens = [Len_1, Len_2, Len_3, Len_4, Len_5, Len_6, Len_7, Len_8, Len_9, Len_10]\n",
    "Radii = np.array([0.065, 0.195, 0.325, 0.455, 0.585, 0.715, 0.845, 0.975, 1.105, 1.235])"
   ]
  },
  {
   "cell_type": "code",
   "execution_count": 24,
   "id": "f5a5eca9",
   "metadata": {},
   "outputs": [
    {
     "name": "stdout",
     "output_type": "stream",
     "text": [
      "[-0.30062469  0.09250545  0.90083557]\n",
      "[ 0.15678386 -0.04465373  0.00511587]\n",
      "[ 0.14384083 -0.04785172  0.09404856]\n"
     ]
    },
    {
     "data": {
      "text/plain": [
       "<matplotlib.legend.Legend at 0x1a91c3715b0>"
      ]
     },
     "execution_count": 24,
     "metadata": {},
     "output_type": "execute_result"
    },
    {
     "data": {
      "image/png": "[encoded data removed]",
      "text/plain": [
       "<Figure size 432x288 with 1 Axes>"
      ]
     },
     "metadata": {
      "needs_background": "light"
     },
     "output_type": "display_data"
    }
   ],
   "source": [
    "from scipy.optimize import curve_fit\n",
    "\n",
    "def func(x, a, b, c):\n",
    "    return a*x + b*x**2 + c\n",
    "\n",
    "popt, pcov = curve_fit(func, Radii, Spirals)\n",
    "print(popt)\n",
    "\n",
    "popt2, pcov2 = curve_fit(func, Radii, Ellipticals)\n",
    "print(popt2)\n",
    "\n",
    "popt3, pcov3 = curve_fit(func, Radii, Lenticulars)\n",
    "print(popt3)\n",
    "\n",
    "plt.figure(1).add_axes((0,0,1.2,1.2))\n",
    "\n",
    "plt.plot(Radii, func(Radii, *popt), color = 'black', linewidth = '1')\n",
    "plt.plot(Radii, func(Radii, *popt2), color = 'black', linewidth = '1')\n",
    "plt.plot(Radii, func(Radii, *popt3), color = 'black', linewidth = '1')\n",
    "\n",
    "plt.scatter(Radii, Spirals, marker = 'x', color = 'black', label = 'Spirals')\n",
    "plt.scatter(Radii, Ellipticals, s=18, marker = 'o', color = 'black', label = 'Ellipticals', edgecolors = 'black')\n",
    "plt.scatter(Radii, Lenticulars, s=16, marker = 's', color = 'black', label = 'Lenticulars/Unknown', edgecolors = 'black')\n",
    "\n",
    "plt.xlabel(\"Distance From Centre ($Mpc$)\")\n",
    "plt.ylabel(\"Fraction of Population\")\n",
    "plt.legend(loc = 'center right')"
   ]
  },
  {
   "cell_type": "code",
   "execution_count": 33,
   "id": "9dc5c33e",
   "metadata": {},
   "outputs": [
    {
     "name": "stdout",
     "output_type": "stream",
     "text": [
      "[ 1502.20278946 -1008.83090629  -139.24450613]\n",
      "[ 199.67366074 -114.75703876  -28.60303048]\n",
      "[ 362.77389749 -215.61771913  -47.34204651]\n"
     ]
    },
    {
     "data": {
      "text/plain": [
       "<matplotlib.legend.Legend at 0x1a91f04beb0>"
      ]
     },
     "execution_count": 33,
     "metadata": {},
     "output_type": "execute_result"
    },
    {
     "data": {
      "image/png": "[encoded data removed]",
      "text/plain": [
       "<Figure size 432x288 with 1 Axes>"
      ]
     },
     "metadata": {
      "needs_background": "light"
     },
     "output_type": "display_data"
    }
   ],
   "source": [
    "popt4, pcov4 = curve_fit(func, Radii, Spis)\n",
    "print(popt4)\n",
    "\n",
    "popt5, pcov5 = curve_fit(func, Radii, Ells)\n",
    "print(popt5)\n",
    "\n",
    "popt6, pcov6 = curve_fit(func, Radii, Lens)\n",
    "print(popt6)\n",
    "\n",
    "plt.figure(1).add_axes((0,0,1.2,1.2))\n",
    "\n",
    "\n",
    "\n",
    "plt.scatter(Radii, Spis, marker = 'x', color = 'blue', label = 'Spirals')\n",
    "plt.scatter(Radii, Ells, s=18, marker = 'o', color = 'red', label = 'Ellipticals')\n",
    "plt.scatter(Radii, Lens, s=16, marker = 's', color = 'orange', label = 'Lenticulars/Unknown')\n",
    "\n",
    "plt.xlabel(\"Distance From Centre ($Mpc$)\")\n",
    "plt.ylabel(\"Number of Galaxies\")\n",
    "plt.legend(loc = 'upper left')"
   ]
  },
  {
   "cell_type": "code",
   "execution_count": null,
   "id": "0aa3e79b",
   "metadata": {},
   "outputs": [],
   "source": []
  }
 ],
 "metadata": {
  "kernelspec": {
   "display_name": "Python 3",
   "language": "python",
   "name": "python3"
  },
  "language_info": {
   "codemirror_mode": {
    "name": "ipython",
    "version": 3
   },
   "file_extension": ".py",
   "mimetype": "text/x-python",
   "name": "python",
   "nbconvert_exporter": "python",
   "pygments_lexer": "ipython3",
   "version": "3.8.8"
  }
 },
 "nbformat": 4,
 "nbformat_minor": 5
}
