{
 "cells": [
  {
   "cell_type": "code",
   "execution_count": 39,
   "id": "fac55dda",
   "metadata": {},
   "outputs": [],
   "source": [
    "import numpy as np\n",
    "import matplotlib.pyplot as plt\n",
    "from astropy.io import fits"
   ]
  },
  {
   "cell_type": "code",
   "execution_count": 40,
   "id": "4ca9c42e",
   "metadata": {},
   "outputs": [],
   "source": [
    "h = fits.open('Sersic Yes Spi')\n",
    "i = fits.open('Sersic Yes Ell')\n",
    "j = fits.open('Sersic Yes Lent')"
   ]
  },
  {
   "cell_type": "code",
   "execution_count": 41,
   "id": "a940fdce",
   "metadata": {},
   "outputs": [
    {
     "name": "stdout",
     "output_type": "stream",
     "text": [
      "Filename: Sersic Yes Spi\n",
      "No.    Name      Ver    Type      Cards   Dimensions   Format\n",
      "  0  PRIMARY       1 PrimaryHDU      16   (11289,)   uint8   \n",
      "  1  Joined        1 BinTableHDU    317   1691R x 131C   [K, D, D, K, 2A, D, K, D, D, D, D, D, D, D, D, D, D, D, D, D, D, D, D, D, D, J, J, J, J, I, I, D, D, K, 15A, D, D, J, E, J, J, J, E, J, E, E, E, E, E, E, E, E, E, J, J, J, J, E, J, E, E, E, E, E, E, E, E, E, J, J, J, J, E, J, E, E, E, E, E, E, E, E, E, J, J, J, J, J, E, E, E, E, E, E, J, E, E, E, E, E, E, J, E, E, E, E, E, E, J, J, J, J, D, D, E, E, E, E, E, E, E, E, E, E, E, E, E, E, K, D, D]   \n",
      "Filename: Sersic Yes Ell\n",
      "No.    Name      Ver    Type      Cards   Dimensions   Format\n",
      "  0  PRIMARY       1 PrimaryHDU      16   (11288,)   uint8   \n",
      "  1  Joined        1 BinTableHDU    317   981R x 131C   [K, D, D, K, 2A, D, K, D, D, D, D, D, D, D, D, D, D, D, D, D, D, D, D, D, D, J, J, J, J, I, I, D, D, K, 15A, D, D, J, E, J, J, J, E, J, E, E, E, E, E, E, E, E, E, J, J, J, J, E, J, E, E, E, E, E, E, E, E, E, J, J, J, J, E, J, E, E, E, E, E, E, E, E, E, J, J, J, J, J, E, E, E, E, E, E, J, E, E, E, E, E, E, J, E, E, E, E, E, E, J, J, J, J, D, D, E, E, E, E, E, E, E, E, E, E, E, E, E, E, K, D, D]   \n",
      "Filename: Sersic Yes Lent\n",
      "No.    Name      Ver    Type      Cards   Dimensions   Format\n",
      "  0  PRIMARY       1 PrimaryHDU      16   (11289,)   uint8   \n",
      "  1  Joined        1 BinTableHDU    317   1632R x 131C   [K, D, D, K, 2A, D, K, D, D, D, D, D, D, D, D, D, D, D, D, D, D, D, D, D, D, J, J, J, J, I, I, D, D, K, 15A, D, D, J, E, J, J, J, E, J, E, E, E, E, E, E, E, E, E, J, J, J, J, E, J, E, E, E, E, E, E, E, E, E, J, J, J, J, E, J, E, E, E, E, E, E, E, E, E, J, J, J, J, J, E, E, E, E, E, E, J, E, E, E, E, E, E, J, E, E, E, E, E, E, J, J, J, J, D, D, E, E, E, E, E, E, E, E, E, E, E, E, E, E, K, D, D]   \n"
     ]
    }
   ],
   "source": [
    "h.info()\n",
    "i.info()\n",
    "j.info()"
   ]
  },
  {
   "cell_type": "code",
   "execution_count": 42,
   "id": "7ff77b09",
   "metadata": {},
   "outputs": [],
   "source": [
    "H = h[1].data\n",
    "I = i[1].data\n",
    "J = j[1].data"
   ]
  },
  {
   "cell_type": "code",
   "execution_count": 43,
   "id": "f40c24f8",
   "metadata": {},
   "outputs": [],
   "source": [
    "Radius = np.array(H.field(114))\n",
    "Sersic = np.array(H.field(49))\n",
    "Morph = np.array(H.field(3))\n",
    "\n",
    "Radius2 = np.array(I.field(114))\n",
    "Sersic2 = np.array(I.field(49))\n",
    "Morph2 = np.array(I.field(3))\n",
    "\n",
    "Radius3 = np.array(J.field(114))\n",
    "Sersic3 = np.array(J.field(49))\n",
    "Morph3 = np.array(J.field(3))"
   ]
  },
  {
   "cell_type": "code",
   "execution_count": 44,
   "id": "9ef32911",
   "metadata": {},
   "outputs": [
    {
     "name": "stdout",
     "output_type": "stream",
     "text": [
      "[[0.02516635 0.02924404 0.03301802 ... 1.0217886  1.0467585  1.0739979 ]\n",
      " [2.3603039  1.2102858  3.5943785  ... 2.6216068  3.5720556  0.8697821 ]]\n"
     ]
    }
   ],
   "source": [
    "Stack = np.vstack((Radius, Sersic))\n",
    "Stack2 = np.vstack((Radius2, Sersic2))\n",
    "Stack3 = np.vstack((Radius3, Sersic3))\n",
    "print(Stack)"
   ]
  },
  {
   "cell_type": "code",
   "execution_count": 45,
   "id": "8fd30050",
   "metadata": {},
   "outputs": [],
   "source": [
    "Spiral_1, Spiral_2, Spiral_3, Spiral_4, Spiral_5, Spiral_6, Spiral_7, Spiral_8, Spiral_9, Spiral_10 = np.hsplit(Stack, np.array([109, 308, 552, 796, 1038, 1279, 1487, 1631, 1682]))\n",
    "Elliptical_1, Elliptical_2, Elliptical_3, Elliptical_4, Elliptical_5, Elliptical_6, Elliptical_7, Elliptical_8, Elliptical_9, Elliptical_10 = np.hsplit(Stack2, np.array([71, 194, 330, 463, 604, 725, 838, 938, 972]))\n",
    "Lenticular_1, Lenticular_2, Lenticular_3, Lenticular_4, Lenticular_5, Lenticular_6, Lenticular_7, Lenticular_8, Lenticular_9, Lenticular_10 = np.hsplit(Stack3, np.array([121, 369, 624, 839, 1049, 1251, 1420, 1566, 1617]))"
   ]
  },
  {
   "cell_type": "code",
   "execution_count": 46,
   "id": "f2a619f5",
   "metadata": {},
   "outputs": [],
   "source": [
    "SS_1 = np.median(Spiral_1[1])\n",
    "SS_2 = np.median(Spiral_2[1])\n",
    "SS_3 = np.median(Spiral_3[1])\n",
    "SS_4 = np.median(Spiral_4[1])\n",
    "SS_5 = np.median(Spiral_5[1])\n",
    "SS_6 = np.median(Spiral_6[1])\n",
    "SS_7 = np.median(Spiral_7[1])\n",
    "SS_8 = np.median(Spiral_8[1])\n",
    "SS_9 = np.median(Spiral_9[1])\n",
    "SS_10 = np.median(Spiral_10[1])\n",
    "\n",
    "SE_1 = np.median(Elliptical_1[1])\n",
    "SE_2 = np.median(Elliptical_2[1])\n",
    "SE_3 = np.median(Elliptical_3[1])\n",
    "SE_4 = np.median(Elliptical_4[1])\n",
    "SE_5 = np.median(Elliptical_5[1])\n",
    "SE_6 = np.median(Elliptical_6[1])\n",
    "SE_7 = np.median(Elliptical_7[1])\n",
    "SE_8 = np.median(Elliptical_8[1])\n",
    "SE_9 = np.median(Elliptical_9[1])\n",
    "SE_10 = np.median(Elliptical_10[1])\n",
    "\n",
    "SL_1 = np.median(Lenticular_1[1])\n",
    "SL_2 = np.median(Lenticular_2[1])\n",
    "SL_3 = np.median(Lenticular_3[1])\n",
    "SL_4 = np.median(Lenticular_4[1])\n",
    "SL_5 = np.median(Lenticular_5[1])\n",
    "SL_6 = np.median(Lenticular_6[1])\n",
    "SL_7 = np.median(Lenticular_7[1])\n",
    "SL_8 = np.median(Lenticular_8[1])\n",
    "SL_9 = np.median(Lenticular_9[1])\n",
    "SL_10 = np.median(Lenticular_10[1])"
   ]
  },
  {
   "cell_type": "code",
   "execution_count": 64,
   "id": "f9ce3163",
   "metadata": {},
   "outputs": [],
   "source": [
    "Spirals = [SS_1, SS_2, SS_3, SS_4, SS_5, SS_6, SS_7, SS_8, SS_9, SS_10]\n",
    "Ellipticals = [SE_1, SE_2, SE_3, SE_4, SE_5, SE_6, SE_7, SE_8, SE_9, SE_10]\n",
    "Lenticulars = [SL_1, SL_2, SL_3, SL_4, SL_5, SL_6, SL_7, SL_8, SL_9, SL_10]\n",
    "Radii = np.array([0.055, 0.165, 0.275, 0.385, 0.495, 0.605, 0.715, 0.825, 0.935, 1.045])"
   ]
  },
  {
   "cell_type": "code",
   "execution_count": 67,
   "id": "8be05861",
   "metadata": {},
   "outputs": [
    {
     "name": "stdout",
     "output_type": "stream",
     "text": [
      "[-0.58535863  0.87990403  2.34772051]\n",
      "[ 1.70283426 -1.84387728  3.79018922]\n",
      "[-0.07336224  0.0367836   3.36036632]\n"
     ]
    },
    {
     "data": {
      "text/plain": [
       "<matplotlib.legend.Legend at 0x19eedfa1dc0>"
      ]
     },
     "execution_count": 67,
     "metadata": {},
     "output_type": "execute_result"
    },
    {
     "data": {
      "image/png": "[encoded data removed]",
      "text/plain": [
       "<Figure size 432x288 with 1 Axes>"
      ]
     },
     "metadata": {
      "needs_background": "light"
     },
     "output_type": "display_data"
    }
   ],
   "source": [
    "from scipy.optimize import curve_fit\n",
    "\n",
    "def func(x, a, b, c):\n",
    "    return a*x + b*x**2 + c\n",
    "\n",
    "popt, pcov = curve_fit(func, Radii, Spirals)\n",
    "print(popt)\n",
    "\n",
    "popt2, pcov2 = curve_fit(func, Radii, Ellipticals)\n",
    "print(popt2)\n",
    "\n",
    "popt3, pcov3 = curve_fit(func, Radii, Lenticulars)\n",
    "print(popt3)\n",
    "\n",
    "plt.figure(1).add_axes((0,0,1.2,1.2))\n",
    "\n",
    "plt.plot(Radii, func(Radii, *popt), color = 'blue', linewidth = '1')\n",
    "plt.plot(Radii, func(Radii, *popt2), color = 'red', linewidth = '1')\n",
    "plt.plot(Radii, func(Radii, *popt3), color = 'orange', linewidth = '1')\n",
    "\n",
    "plt.scatter(Radii, Spirals, color = 'blue', label = 'Spirals', marker = 'x')\n",
    "plt.scatter(Radii, Ellipticals, color = 'red', label = 'Ellipticals', marker = 'o')\n",
    "plt.scatter(Radii, Lenticulars, color = 'orange', label = 'Lenticluars/Unknown', marker = 's')\n",
    "\n",
    "plt.xlabel(\"Distance From Centre ($Mpc$)\")\n",
    "plt.ylabel(\"Median Sersic Index\")\n",
    "plt.legend(loc = 'best')"
   ]
  },
  {
   "cell_type": "code",
   "execution_count": null,
   "id": "b0e848ae",
   "metadata": {},
   "outputs": [],
   "source": []
  }
 ],
 "metadata": {
  "kernelspec": {
   "display_name": "Python 3",
   "language": "python",
   "name": "python3"
  },
  "language_info": {
   "codemirror_mode": {
    "name": "ipython",
    "version": 3
   },
   "file_extension": ".py",
   "mimetype": "text/x-python",
   "name": "python",
   "nbconvert_exporter": "python",
   "pygments_lexer": "ipython3",
   "version": "3.8.8"
  }
 },
 "nbformat": 4,
 "nbformat_minor": 5
}
